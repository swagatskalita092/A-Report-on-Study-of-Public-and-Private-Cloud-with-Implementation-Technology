{
  "cells": [
    {
      "cell_type": "markdown",
      "metadata": {
        "id": "view-in-github",
        "colab_type": "text"
      },
      "source": [
        "<a href=\"https://colab.research.google.com/github/swagatskalita092/A-Report-on-Study-of-Public-and-Private-Cloud-with-Implementation-Technology/blob/main/AI_Fluskipynb.ipynb\" target=\"_parent\"><img src=\"https://colab.research.google.com/assets/colab-badge.svg\" alt=\"Open In Colab\"/></a>"
      ]
    },
    {
      "cell_type": "code",
      "source": [
        "!pip install flask\n",
        "!pip install pyngrok\n",
        "\n"
      ],
      "metadata": {
        "colab": {
          "base_uri": "https://localhost:8080/"
        },
        "id": "Spe-j-t2uuP5",
        "outputId": "68c76e1a-8689-4c28-89d9-241b9626ddb4"
      },
      "execution_count": 12,
      "outputs": [
        {
          "output_type": "stream",
          "name": "stdout",
          "text": [
            "Requirement already satisfied: flask in /usr/local/lib/python3.11/dist-packages (3.1.0)\n",
            "Requirement already satisfied: Werkzeug>=3.1 in /usr/local/lib/python3.11/dist-packages (from flask) (3.1.3)\n",
            "Requirement already satisfied: Jinja2>=3.1.2 in /usr/local/lib/python3.11/dist-packages (from flask) (3.1.5)\n",
            "Requirement already satisfied: itsdangerous>=2.2 in /usr/local/lib/python3.11/dist-packages (from flask) (2.2.0)\n",
            "Requirement already satisfied: click>=8.1.3 in /usr/local/lib/python3.11/dist-packages (from flask) (8.1.8)\n",
            "Requirement already satisfied: blinker>=1.9 in /usr/local/lib/python3.11/dist-packages (from flask) (1.9.0)\n",
            "Requirement already satisfied: MarkupSafe>=2.0 in /usr/local/lib/python3.11/dist-packages (from Jinja2>=3.1.2->flask) (3.0.2)\n",
            "Requirement already satisfied: pyngrok in /usr/local/lib/python3.11/dist-packages (7.2.3)\n",
            "Requirement already satisfied: PyYAML>=5.1 in /usr/local/lib/python3.11/dist-packages (from pyngrok) (6.0.2)\n"
          ]
        }
      ]
    },
    {
      "cell_type": "code",
      "source": [
        "!pip install pyngrok\n",
        "!ngrok config add-authtoken 2roCSQYQS3Q9iZsAQ8woEaITLcx_5EKEwNKJ4oFZFG4ZyBjPh\n"
      ],
      "metadata": {
        "colab": {
          "base_uri": "https://localhost:8080/"
        },
        "id": "PweVPk86vaAZ",
        "outputId": "80d541a6-a59a-42c9-c471-66de401118db"
      },
      "execution_count": 13,
      "outputs": [
        {
          "output_type": "stream",
          "name": "stdout",
          "text": [
            "Requirement already satisfied: pyngrok in /usr/local/lib/python3.11/dist-packages (7.2.3)\n",
            "Requirement already satisfied: PyYAML>=5.1 in /usr/local/lib/python3.11/dist-packages (from pyngrok) (6.0.2)\n",
            "Authtoken saved to configuration file: /root/.config/ngrok/ngrok.yml\n"
          ]
        }
      ]
    },
    {
      "cell_type": "code",
      "source": [
        "from flask import Flask, jsonify, request\n",
        "from pyngrok import ngrok\n",
        "\n",
        "# Initialize the Flask application\n",
        "app = Flask(__name__)\n",
        "\n",
        "# Sample dataset\n",
        "data = [\n",
        "    {\"id\": 1, \"name\": \"Item 1\", \"description\": \"Description for Item 1\"},\n",
        "    {\"id\": 2, \"name\": \"Item 2\", \"description\": \"Description for Item 2\"}\n",
        "]\n",
        "\n",
        "# Root route\n",
        "@app.route('/')\n",
        "def home():\n",
        "    return \"Welcome to the Flask API!\"\n",
        "\n",
        "# Fetch all items\n",
        "@app.route('/items', methods=['GET'])\n",
        "def fetch_all_items():\n",
        "    return jsonify(data)\n",
        "\n",
        "# Fetch a specific item by ID\n",
        "@app.route('/items/<int:item_id>', methods=['GET'])\n",
        "def fetch_item_by_id(item_id):\n",
        "    item = next((item for item in data if item[\"id\"] == item_id), None)\n",
        "    if item:\n",
        "        return jsonify(item)\n",
        "    else:\n",
        "        return jsonify({\"error\": \"Item not found\"}), 404\n",
        "\n",
        "# Add a new item\n",
        "@app.route('/items', methods=['POST'])\n",
        "def create_item():\n",
        "    new_item = request.json\n",
        "    data.append(new_item)\n",
        "    return jsonify(new_item), 201\n",
        "\n",
        "# Update an existing item\n",
        "@app.route('/items/<int:item_id>', methods=['PUT'])\n",
        "def update_item(item_id):\n",
        "    item = next((item for item in data if item[\"id\"] == item_id), None)\n",
        "    if item:\n",
        "        item.update(request.json)\n",
        "        return jsonify(item)\n",
        "    else:\n",
        "        return jsonify({\"error\": \"Item not found\"}), 404\n",
        "\n",
        "# Delete an item\n",
        "@app.route('/items/<int:item_id>', methods=['DELETE'])\n",
        "def delete_item(item_id):\n",
        "    global data\n",
        "    data = [item for item in data if item[\"id\"] != item_id]\n",
        "    return jsonify({\"message\": \"Item deleted\"}), 200\n",
        "\n",
        "# Start the Flask app with ngrok\n",
        "if __name__ == '__main__':\n",
        "    # Start ngrok tunnel\n",
        "    public_url = ngrok.connect(8000)\n",
        "    print(f\"Public URL: {public_url}\")\n",
        "\n",
        "    # Run Flask app\n",
        "    app.run(port=8000)\n"
      ],
      "metadata": {
        "colab": {
          "base_uri": "https://localhost:8080/"
        },
        "id": "zq58aIfkzmZh",
        "outputId": "5ce0796f-a405-48c6-f272-3a90ad00927b"
      },
      "execution_count": 14,
      "outputs": [
        {
          "output_type": "stream",
          "name": "stdout",
          "text": [
            "Public URL: NgrokTunnel: \"https://c017-34-125-156-45.ngrok-free.app\" -> \"http://localhost:8000\"\n",
            " * Serving Flask app '__main__'\n",
            " * Debug mode: off\n"
          ]
        },
        {
          "output_type": "stream",
          "name": "stderr",
          "text": [
            "INFO:werkzeug:\u001b[31m\u001b[1mWARNING: This is a development server. Do not use it in a production deployment. Use a production WSGI server instead.\u001b[0m\n",
            " * Running on http://127.0.0.1:8000\n",
            "INFO:werkzeug:\u001b[33mPress CTRL+C to quit\u001b[0m\n",
            "INFO:werkzeug:127.0.0.1 - - [18/Jan/2025 19:06:02] \"GET / HTTP/1.1\" 200 -\n",
            "INFO:werkzeug:127.0.0.1 - - [18/Jan/2025 19:06:03] \"\u001b[33mGET /favicon.ico HTTP/1.1\u001b[0m\" 404 -\n",
            "INFO:werkzeug:127.0.0.1 - - [18/Jan/2025 19:06:16] \"GET / HTTP/1.1\" 200 -\n",
            "INFO:werkzeug:127.0.0.1 - - [18/Jan/2025 19:07:24] \"GET /items HTTP/1.1\" 200 -\n",
            "INFO:werkzeug:127.0.0.1 - - [18/Jan/2025 20:10:12] \"GET / HTTP/1.1\" 200 -\n",
            "INFO:werkzeug:127.0.0.1 - - [18/Jan/2025 20:10:33] \"GET / HTTP/1.1\" 200 -\n"
          ]
        }
      ]
    }
  ],
  "metadata": {
    "colab": {
      "provenance": [],
      "authorship_tag": "ABX9TyPh/ier7vCebz9L424gdQJQ",
      "include_colab_link": true
    },
    "kernelspec": {
      "display_name": "Python 3",
      "name": "python3"
    },
    "language_info": {
      "name": "python"
    }
  },
  "nbformat": 4,
  "nbformat_minor": 0
}